{
    "cells": [
        {
            "cell_type": "code",
            "execution_count": 2,
            "metadata": {},
            "outputs": [],
            "source": [
                "%reload_ext autoreload\n",
                "%autoreload 2\n",
                "\n",
                "from pathlib import Path\n",
                "\n",
                "import geoutils as gu\n",
                "import xdem\n",
                "\n",
                "import dempp\n",
                "\n",
                "data_dir = Path(\"data\")\n",
                "REFERENCE_DEM = data_dir / \"swissalti3d_aletsch_32632_hell_5m.tif\"\n",
                "MASK_FILE = data_dir / \"5_final_mask_rgi_10m.tif\"\n",
                "\n",
                "GLACIER_OUTLINES = data_dir / \"rgi70_aletsch.geojson\"\n",
                "\n",
                "DEM = \"outputs/proc/001_003-006_S5_054-256-0_2003-03-26/stereo-DEM.tif\""
            ]
        },
        {
            "cell_type": "code",
            "execution_count": 3,
            "metadata": {},
            "outputs": [
                {
                    "ename": "FileNotFoundError",
                    "evalue": "DEM outputs/proc/001_003-006_S5_054-256-0_2003-03-26/stereo-DEM.tif does not exist",
                    "output_type": "error",
                    "traceback": [
                        "\u001b[0;31m---------------------------------------------------------------------------\u001b[0m",
                        "\u001b[0;31mFileNotFoundError\u001b[0m                         Traceback (most recent call last)",
                        "Cell \u001b[0;32mIn[3], line 1\u001b[0m\n\u001b[0;32m----> 1\u001b[0m dod, statistics \u001b[38;5;241m=\u001b[39m \u001b[43mdempp\u001b[49m\u001b[38;5;241;43m.\u001b[39;49m\u001b[43mdod\u001b[49m\u001b[38;5;241;43m.\u001b[39;49m\u001b[43mdifferenciate_dems\u001b[49m\u001b[43m(\u001b[49m\n\u001b[1;32m      2\u001b[0m \u001b[43m    \u001b[49m\u001b[43mdem\u001b[49m\u001b[38;5;241;43m=\u001b[39;49m\u001b[43mDEM\u001b[49m\u001b[43m,\u001b[49m\n\u001b[1;32m      3\u001b[0m \u001b[43m    \u001b[49m\u001b[43mreference\u001b[49m\u001b[38;5;241;43m=\u001b[39;49m\u001b[43mREFERENCE_DEM\u001b[49m\u001b[43m,\u001b[49m\n\u001b[1;32m      4\u001b[0m \u001b[43m    \u001b[49m\u001b[43minlier_mask\u001b[49m\u001b[38;5;241;43m=\u001b[39;49m\u001b[43mMASK_FILE\u001b[49m\u001b[43m,\u001b[49m\n\u001b[1;32m      5\u001b[0m \u001b[43m    \u001b[49m\u001b[43moutput_dir\u001b[49m\u001b[38;5;241;43m=\u001b[39;49m\u001b[38;5;124;43m\"\u001b[39;49m\u001b[38;5;124;43m./\u001b[39;49m\u001b[38;5;124;43m\"\u001b[39;49m\u001b[43m,\u001b[49m\n\u001b[1;32m      6\u001b[0m \u001b[43m    \u001b[49m\u001b[43mmake_plot\u001b[49m\u001b[38;5;241;43m=\u001b[39;49m\u001b[38;5;28;43;01mTrue\u001b[39;49;00m\u001b[43m,\u001b[49m\n\u001b[1;32m      7\u001b[0m \u001b[43m)\u001b[49m\n",
                        "File \u001b[0;32m~/repo/dempp/src/dempp/dod.py:132\u001b[0m, in \u001b[0;36mdifferenciate_dems\u001b[0;34m(dem, reference, inlier_mask, output_dir, output_prefix, make_plot, warp_on, resampling, xlim, plt_cfg)\u001b[0m\n\u001b[1;32m    104\u001b[0m \u001b[38;5;250m\u001b[39m\u001b[38;5;124;03m\"\"\"Process two DEMs to create a difference DEM with statistics.\u001b[39;00m\n\u001b[1;32m    105\u001b[0m \n\u001b[1;32m    106\u001b[0m \u001b[38;5;124;03mThis high-level function performs the complete DoD workflow by calling several\u001b[39;00m\n\u001b[0;32m   (...)\u001b[0m\n\u001b[1;32m    129\u001b[0m \u001b[38;5;124;03m    tuple[xdem.DEM, RasterStatistics]: The difference DEM and statistics object\u001b[39;00m\n\u001b[1;32m    130\u001b[0m \u001b[38;5;124;03m\"\"\"\u001b[39;00m\n\u001b[1;32m    131\u001b[0m \u001b[38;5;66;03m# Load DEMs from paths\u001b[39;00m\n\u001b[0;32m--> 132\u001b[0m dem \u001b[38;5;241m=\u001b[39m \u001b[43mload_dem\u001b[49m\u001b[43m(\u001b[49m\u001b[43mdem\u001b[49m\u001b[43m)\u001b[49m\n\u001b[1;32m    133\u001b[0m reference \u001b[38;5;241m=\u001b[39m load_dem(reference)\n\u001b[1;32m    135\u001b[0m \u001b[38;5;66;03m# Load mask if provided\u001b[39;00m\n",
                        "File \u001b[0;32m~/repo/dempp/src/dempp/io.py:34\u001b[0m, in \u001b[0;36mload_dem\u001b[0;34m(dem_path, area_or_point, vrcs)\u001b[0m\n\u001b[1;32m     15\u001b[0m \u001b[38;5;28;01mdef\u001b[39;00m \u001b[38;5;21mload_dem\u001b[39m(\n\u001b[1;32m     16\u001b[0m     dem_path: Path \u001b[38;5;241m|\u001b[39m \u001b[38;5;28mstr\u001b[39m,\n\u001b[1;32m     17\u001b[0m     area_or_point: \u001b[38;5;28mstr\u001b[39m \u001b[38;5;241m|\u001b[39m \u001b[38;5;28;01mNone\u001b[39;00m \u001b[38;5;241m=\u001b[39m \u001b[38;5;28;01mNone\u001b[39;00m,\n\u001b[1;32m     18\u001b[0m     vrcs: \u001b[38;5;28mstr\u001b[39m \u001b[38;5;241m|\u001b[39m \u001b[38;5;28;01mNone\u001b[39;00m \u001b[38;5;241m=\u001b[39m \u001b[38;5;28;01mNone\u001b[39;00m,\n\u001b[1;32m     19\u001b[0m ) \u001b[38;5;241m-\u001b[39m\u001b[38;5;241m>\u001b[39m xdem\u001b[38;5;241m.\u001b[39mDEM:\n\u001b[1;32m     20\u001b[0m \u001b[38;5;250m    \u001b[39m\u001b[38;5;124;03m\"\"\"Load DEM from disk and set its properties.\u001b[39;00m\n\u001b[1;32m     21\u001b[0m \n\u001b[1;32m     22\u001b[0m \u001b[38;5;124;03m    Args:\u001b[39;00m\n\u001b[0;32m   (...)\u001b[0m\n\u001b[1;32m     32\u001b[0m \u001b[38;5;124;03m        FileNotFoundError: If DEM file doesn't exist\u001b[39;00m\n\u001b[1;32m     33\u001b[0m \u001b[38;5;124;03m    \"\"\"\u001b[39;00m\n\u001b[0;32m---> 34\u001b[0m     dem_path \u001b[38;5;241m=\u001b[39m \u001b[43mcheck_path\u001b[49m\u001b[43m(\u001b[49m\u001b[43mdem_path\u001b[49m\u001b[43m,\u001b[49m\u001b[43m \u001b[49m\u001b[38;5;124;43m\"\u001b[39;49m\u001b[38;5;124;43mDEM\u001b[39;49m\u001b[38;5;124;43m\"\u001b[39;49m\u001b[43m)\u001b[49m\n\u001b[1;32m     35\u001b[0m     dem \u001b[38;5;241m=\u001b[39m xdem\u001b[38;5;241m.\u001b[39mDEM(dem_path)\n\u001b[1;32m     36\u001b[0m     \u001b[38;5;28;01mif\u001b[39;00m area_or_point:\n",
                        "File \u001b[0;32m~/repo/dempp/src/dempp/utils/paths.py:20\u001b[0m, in \u001b[0;36mcheck_path\u001b[0;34m(path, error_prefix)\u001b[0m\n\u001b[1;32m     18\u001b[0m path \u001b[38;5;241m=\u001b[39m Path(path)\n\u001b[1;32m     19\u001b[0m \u001b[38;5;28;01mif\u001b[39;00m \u001b[38;5;129;01mnot\u001b[39;00m path\u001b[38;5;241m.\u001b[39mexists():\n\u001b[0;32m---> 20\u001b[0m     \u001b[38;5;28;01mraise\u001b[39;00m \u001b[38;5;167;01mFileNotFoundError\u001b[39;00m(\u001b[38;5;124mf\u001b[39m\u001b[38;5;124m\"\u001b[39m\u001b[38;5;132;01m{\u001b[39;00merror_prefix\u001b[38;5;132;01m}\u001b[39;00m\u001b[38;5;124m \u001b[39m\u001b[38;5;132;01m{\u001b[39;00mpath\u001b[38;5;132;01m}\u001b[39;00m\u001b[38;5;124m does not exist\u001b[39m\u001b[38;5;124m\"\u001b[39m)\n\u001b[1;32m     21\u001b[0m \u001b[38;5;28;01mreturn\u001b[39;00m path\n",
                        "\u001b[0;31mFileNotFoundError\u001b[0m: DEM outputs/proc/001_003-006_S5_054-256-0_2003-03-26/stereo-DEM.tif does not exist"
                    ]
                }
            ],
            "source": [
                "dod, statistics = dempp.dod.differenciate_dems(\n",
                "    dem=DEM,\n",
                "    reference=REFERENCE_DEM,\n",
                "    inlier_mask=MASK_FILE,\n",
                "    output_dir=\"./\",\n",
                "    make_plot=True,\n",
                ")"
            ]
        },
        {
            "cell_type": "code",
            "execution_count": null,
            "metadata": {},
            "outputs": [],
            "source": [
                "dem = xdem.DEM(DEM)\n",
                "rgi = gu.Vector(GLACIER_OUTLINES)\n",
                "rgi_mask = rgi.create_mask(dem)\n",
                "\n",
                "out = dempp.statistics.compute_raster_statistics(dem, inlier_mask=rgi_mask)\n",
                "print(out)\n"
            ]
        }
    ],
    "metadata": {
        "kernelspec": {
            "display_name": "pyasp2",
            "language": "python",
            "name": "python3"
        },
        "language_info": {
            "codemirror_mode": {
                "name": "ipython",
                "version": 3
            },
            "file_extension": ".py",
            "mimetype": "text/x-python",
            "name": "python",
            "nbconvert_exporter": "python",
            "pygments_lexer": "ipython3",
            "version": "3.11.11"
        }
    },
    "nbformat": 4,
    "nbformat_minor": 2
}